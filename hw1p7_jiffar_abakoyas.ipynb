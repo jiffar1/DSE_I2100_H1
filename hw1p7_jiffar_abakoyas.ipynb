{
 "cells": [
  {
   "cell_type": "markdown",
   "metadata": {},
   "source": [
    "# Implementing a class DSELinearClassifier()\n",
    "\n",
    "Jiffar Abakoyas\n",
    "\n",
    "DSE ML, CCNY, CUNY"
   ]
  },
  {
   "cell_type": "code",
   "execution_count": 1,
   "metadata": {},
   "outputs": [],
   "source": [
    "from sklearn.datasets import make_blobs\n",
    "from matplotlib import pyplot as plt\n",
    "from pandas import DataFrame\n",
    "import numpy as np\n",
    "from sklearn.metrics import classification_report, accuracy_score\n",
    "from sklearn.datasets import make_circles\n"
   ]
  },
  {
   "cell_type": "code",
   "execution_count": 2,
   "metadata": {},
   "outputs": [],
   "source": [
    "# In this problem you will write code. \n",
    "# You are going to write a one file library a.k.a. a python module. \n",
    "# You need to implement a class DSELinearClassifier in module “DSEHW1” that takes:\n",
    "# as a parameter on construction, the activation functions, like so:\n",
    "#       from DSEHW import DSELinearClassifier\n",
    "#       clfP = DSELinearClassifier(activation='Perceptron')\n",
    "#       clfL = DSELinearClassifier(activation='Logistic')\n",
    "#       clfH = DSELinearClassifier(activation='HyperTan')"
   ]
  },
  {
   "cell_type": "code",
   "execution_count": 3,
   "metadata": {},
   "outputs": [],
   "source": [
    "from DSEHW1 import DSELinearClassifier\n",
    "clfP = DSELinearClassifier(activation='Perceptron')\n",
    "clfL = DSELinearClassifier(activation='Logistic')\n",
    "clfH = DSELinearClassifier(activation='HyperTan')"
   ]
  },
  {
   "cell_type": "code",
   "execution_count": 4,
   "metadata": {},
   "outputs": [],
   "source": [
    "#Then compute the classification report from sklearn for each of the three activations \n",
    "# on the synthetic data sets we created in the last probelem.\n",
    "# For each case show the final classifier line, \n",
    "# with the class regions colored Red and blue as in the examples in the book, or sklearn. \n",
    "# Color the dots as before. As usual split train/test data and show performance on both using classification_report \n",
    "#  for the three data sets."
   ]
  },
  {
   "cell_type": "markdown",
   "metadata": {},
   "source": [
    "# TWO WELL-SEPARATED BLOBS "
   ]
  },
  {
   "cell_type": "markdown",
   "metadata": {},
   "source": [
    "# Generate and plot the two well-separated blobs"
   ]
  },
  {
   "cell_type": "code",
   "execution_count": 5,
   "metadata": {},
   "outputs": [
    {
     "data": {
      "text/plain": [
       "<matplotlib.collections.PathCollection at 0x1a14045be0>"
      ]
     },
     "execution_count": 5,
     "metadata": {},
     "output_type": "execute_result"
    },
    {
     "data": {
      "image/png": "[encoded data removed]",
      "text/plain": [
       "<Figure size 432x288 with 1 Axes>"
      ]
     },
     "metadata": {},
     "output_type": "display_data"
    }
   ],
   "source": [
    "# Classify on two blobs well separated, \n",
    "\n",
    "# generate 2d classification dataset\n",
    "#class A centered at (-1,-1), Red\n",
    "#class B centered at (1,1), Blue\n",
    "clusters, labels = make_blobs(n_samples=500, n_features =2, centers=[[-1.0, -1.0],[1,1]], \\\n",
    "                             random_state = 21, cluster_std = 1/8)\n",
    "\n",
    "#Plot the two classes of blobs: class A in blue and class B points in red.\n",
    "colors = ['r' if x == 0 else 'b' for x in labels]\n",
    "plt.scatter(x=clusters[:,0], y=clusters[:,1], c=colors, alpha=0.5, s =5)\n"
   ]
  },
  {
   "cell_type": "markdown",
   "metadata": {},
   "source": [
    "# Perceptron prediction on the two well-separated blobs"
   ]
  },
  {
   "cell_type": "code",
   "execution_count": 6,
   "metadata": {},
   "outputs": [
    {
     "name": "stdout",
     "output_type": "stream",
     "text": [
      "             precision    recall  f1-score   support\n",
      "\n",
      "        red       1.00      1.00      1.00       250\n",
      "       blue       1.00      1.00      1.00       250\n",
      "\n",
      "avg / total       1.00      1.00      1.00       500\n",
      "\n",
      "Perceptron on two blobs has accuracy: 1.0\n",
      "The perceptron separates the two blobs perfectly\n"
     ]
    }
   ],
   "source": [
    "#Change labels to -1 and 1 instead of 0 and 1\n",
    "labels = np.where(labels == 0, -1, 1)\n",
    "#Fit the two blobs:\n",
    "clfP.fit(clusters, labels)\n",
    "#Predict a label using the trained perceptron \n",
    "y_pred = clfP.predict(clusters)\n",
    "target_names = ['red', 'blue']\n",
    "#Then print classification report\n",
    "print(classification_report(labels, y_pred, target_names=target_names))\n",
    "print(\"Perceptron on two blobs has accuracy:\", accuracy_score(labels,y_pred))\n",
    "print('The perceptron separates the two blobs perfectly')"
   ]
  },
  {
   "cell_type": "code",
   "execution_count": null,
   "metadata": {},
   "outputs": [],
   "source": []
  },
  {
   "cell_type": "code",
   "execution_count": null,
   "metadata": {},
   "outputs": [],
   "source": []
  },
  {
   "cell_type": "markdown",
   "metadata": {},
   "source": [
    "# Logistic Regression on the two well-seperated blobs"
   ]
  },
  {
   "cell_type": "code",
   "execution_count": 7,
   "metadata": {},
   "outputs": [
    {
     "name": "stdout",
     "output_type": "stream",
     "text": [
      "             precision    recall  f1-score   support\n",
      "\n",
      "        red       1.00      1.00      1.00       250\n",
      "       blue       1.00      1.00      1.00       250\n",
      "\n",
      "avg / total       1.00      1.00      1.00       500\n",
      "\n"
     ]
    },
    {
     "name": "stderr",
     "output_type": "stream",
     "text": [
      "/Users/jja/Spring 2020/ML/DSEHW1.py:80: RuntimeWarning: divide by zero encountered in log\n",
      "  ((1 - y).dot(np.log(1 - output))))\n"
     ]
    }
   ],
   "source": [
    "#Fit the logistic model\n",
    "clusters, labels = make_blobs(n_samples=500, n_features =2, centers=[[-1.0, -1.0],[1,1]], \\\n",
    "                             random_state = 21, cluster_std = 1/8)\n",
    "clfL.fit(clusters, labels)\n",
    "#Predict a label using the logistic model  \n",
    "y_pred = clfL.predict(clusters)\n",
    "target_names = ['red', 'blue']\n",
    "#Then print classification report\n",
    "print(classification_report(labels, y_pred, target_names=target_names))"
   ]
  },
  {
   "cell_type": "code",
   "execution_count": 8,
   "metadata": {},
   "outputs": [
    {
     "name": "stdout",
     "output_type": "stream",
     "text": [
      "Logistic on two blobs has accuracy: 1.0\n"
     ]
    }
   ],
   "source": [
    "print(\"Logistic on two blobs has accuracy:\", accuracy_score(labels,y_pred))"
   ]
  },
  {
   "cell_type": "markdown",
   "metadata": {},
   "source": [
    "# HyperTan on the two well-separated blobs"
   ]
  },
  {
   "cell_type": "code",
   "execution_count": 9,
   "metadata": {},
   "outputs": [
    {
     "name": "stdout",
     "output_type": "stream",
     "text": [
      "             precision    recall  f1-score   support\n",
      "\n",
      "        red       1.00      1.00      1.00       250\n",
      "       blue       1.00      1.00      1.00       250\n",
      "\n",
      "avg / total       1.00      1.00      1.00       500\n",
      "\n"
     ]
    },
    {
     "name": "stderr",
     "output_type": "stream",
     "text": [
      "/Users/jja/Spring 2020/ML/DSEHW1.py:95: RuntimeWarning: divide by zero encountered in log\n",
      "  ((1 - y).dot(np.log(1 - output))))\n"
     ]
    }
   ],
   "source": [
    "#Fit the logistic model\n",
    "clusters, labels = make_blobs(n_samples=500, n_features =2, centers=[[-1.0, -1.0],[1,1]], \\\n",
    "                             random_state = 21, cluster_std = 1/8)\n",
    "clfH.fit(clusters, labels)\n",
    "#Predict a label using the hypertan model  \n",
    "labels = np.where(labels == 0, -1, 1)\n",
    "y_pred = clfH.predict(clusters)\n",
    "target_names = ['red', 'blue']\n",
    "#Then print classification report\n",
    "print(classification_report(labels, y_pred, target_names=target_names))"
   ]
  },
  {
   "cell_type": "code",
   "execution_count": 10,
   "metadata": {},
   "outputs": [
    {
     "name": "stdout",
     "output_type": "stream",
     "text": [
      "HyperTan on two blobs has accuracy: 1.0\n"
     ]
    }
   ],
   "source": [
    "print(\"HyperTan on two blobs has accuracy:\", accuracy_score(labels,y_pred))"
   ]
  },
  {
   "cell_type": "markdown",
   "metadata": {},
   "source": [
    "# TWO OVERLAPPING BLOBS"
   ]
  },
  {
   "cell_type": "markdown",
   "metadata": {},
   "source": [
    "# Generate and plot the two overlappig blobs:"
   ]
  },
  {
   "cell_type": "code",
   "execution_count": 11,
   "metadata": {},
   "outputs": [
    {
     "data": {
      "text/plain": [
       "Text(0.5, 1.0, 'Both Blobs with std=4, not separated')"
      ]
     },
     "execution_count": 11,
     "metadata": {},
     "output_type": "execute_result"
    },
    {
     "data": {
      "image/png": "[encoded data removed]",
      "text/plain": [
       "<Figure size 432x288 with 1 Axes>"
      ]
     },
     "metadata": {},
     "output_type": "display_data"
    }
   ],
   "source": [
    "#New clusters with higher standard deviation of 4\n",
    "clusters_2, labels_2 = make_blobs(n_samples=500, n_features =2, centers=[[-1.0, -1.0],[1,1]], \\\n",
    "                             random_state = 21, cluster_std = 4)\n",
    "\n",
    "\n",
    "#Plot new clusters\n",
    "#Plot the two classes of blobs in red and blue\n",
    "colors_2 = ['r' if x == 0 else 'b' for x in labels_2]\n",
    "plt.scatter(x=clusters_2[:,0], y=clusters_2[:,1], c=colors_2, alpha=0.7, s= 40)\n",
    "plt.title(\"Both Blobs with std=4, not separated\")"
   ]
  },
  {
   "cell_type": "markdown",
   "metadata": {},
   "source": [
    "# Perceptron Prediction on the overlapping blobs"
   ]
  },
  {
   "cell_type": "code",
   "execution_count": 12,
   "metadata": {},
   "outputs": [
    {
     "name": "stdout",
     "output_type": "stream",
     "text": [
      "             precision    recall  f1-score   support\n",
      "\n",
      "        red       0.00      0.00      0.00         0\n",
      "       blue       0.00      0.00      0.00       250\n",
      "\n",
      "avg / total       0.28      0.39      0.33       500\n",
      "\n"
     ]
    },
    {
     "name": "stderr",
     "output_type": "stream",
     "text": [
      "/anaconda3/lib/python3.6/site-packages/sklearn/metrics/classification.py:1428: UserWarning: labels size, 3, does not match size of target_names, 2\n",
      "  .format(len(labels), len(target_names))\n",
      "/anaconda3/lib/python3.6/site-packages/sklearn/metrics/classification.py:1135: UndefinedMetricWarning: Precision and F-score are ill-defined and being set to 0.0 in labels with no predicted samples.\n",
      "  'precision', 'predicted', average, warn_for)\n",
      "/anaconda3/lib/python3.6/site-packages/sklearn/metrics/classification.py:1137: UndefinedMetricWarning: Recall and F-score are ill-defined and being set to 0.0 in labels with no true samples.\n",
      "  'recall', 'true', average, warn_for)\n"
     ]
    }
   ],
   "source": [
    "clusters_2, labels_2 = make_blobs(n_samples=500, n_features =2, centers=[[-1.0, -1.0],[1,1]], \\\n",
    "                             random_state = 21, cluster_std = 4)\n",
    "#Change labels to -1 and 1 instead of 0 and 1\n",
    "labels = np.where(labels_2 == 0, -1, 1)\n",
    "#Fit the two blobs:\n",
    "clfP.fit(clusters_2, labels_2)\n",
    "#Predict a label using the trained perceptron \n",
    "y_pred = clfP.predict(clusters_2)\n",
    "target_names = ['red', 'blue']\n",
    "#Then print classification report\n",
    "print(classification_report(labels_2, y_pred, target_names=target_names))\n"
   ]
  },
  {
   "cell_type": "code",
   "execution_count": 13,
   "metadata": {},
   "outputs": [
    {
     "name": "stdout",
     "output_type": "stream",
     "text": [
      "0.386\n",
      "Perceptron does not perform well on two overlapping blobs\n"
     ]
    }
   ],
   "source": [
    "print(accuracy_score(labels_2, y_pred))\n",
    "print('Perceptron does not perform well on two overlapping blobs')"
   ]
  },
  {
   "cell_type": "markdown",
   "metadata": {},
   "source": [
    "# Logistic prediction on the overlapping blobs"
   ]
  },
  {
   "cell_type": "code",
   "execution_count": 14,
   "metadata": {},
   "outputs": [
    {
     "name": "stdout",
     "output_type": "stream",
     "text": [
      "             precision    recall  f1-score   support\n",
      "\n",
      "        red       0.38      0.36      0.37       250\n",
      "       blue       0.38      0.40      0.39       250\n",
      "\n",
      "avg / total       0.38      0.38      0.38       500\n",
      "\n",
      "Accuracy score: 0.38\n",
      "Logistic regression does not perform well on two overlapping blobs\n"
     ]
    },
    {
     "name": "stderr",
     "output_type": "stream",
     "text": [
      "/Users/jja/Spring 2020/ML/DSEHW1.py:80: RuntimeWarning: divide by zero encountered in log\n",
      "  ((1 - y).dot(np.log(1 - output))))\n"
     ]
    }
   ],
   "source": [
    "#Fit the logistic model\n",
    "clusters_2, labels_2 = make_blobs(n_samples=500, n_features =2, centers=[[-1.0, -1.0],[1,1]], \\\n",
    "                             random_state = 21, cluster_std = 4)\n",
    "clfL.fit(clusters_2, labels_2)\n",
    "#Predict a label using the logistic model  \n",
    "y_pred = clfL.predict(clusters_2)\n",
    "target_names = ['red', 'blue']\n",
    "#Then print classification report\n",
    "print(classification_report(labels_2, y_pred, target_names=target_names))\n",
    "print('Accuracy score:', accuracy_score(labels_2, y_pred))\n",
    "print('Logistic regression does not perform well on two overlapping blobs')"
   ]
  },
  {
   "cell_type": "markdown",
   "metadata": {},
   "source": [
    "# HyperTan prediction on the overlapping blobs"
   ]
  },
  {
   "cell_type": "code",
   "execution_count": 21,
   "metadata": {},
   "outputs": [
    {
     "name": "stdout",
     "output_type": "stream",
     "text": [
      "             precision    recall  f1-score   support\n",
      "\n",
      "        red       0.38      0.36      0.37       250\n",
      "       blue       0.38      0.40      0.39       250\n",
      "\n",
      "avg / total       0.38      0.38      0.38       500\n",
      "\n",
      "Accuracy score: 0.38\n",
      "HyperTan regression does not perform well on two overlapping blobs\n"
     ]
    },
    {
     "name": "stderr",
     "output_type": "stream",
     "text": [
      "/Users/jja/Spring 2020/ML/DSEHW1.py:95: RuntimeWarning: divide by zero encountered in log\n",
      "  ((1 - y).dot(np.log(1 - output))))\n"
     ]
    }
   ],
   "source": [
    "#Create the two clusters\n",
    "clusters_2, labels_2 = make_blobs(n_samples=500, n_features =2, centers=[[-1.0, -1.0],[1,1]], \\\n",
    "                             random_state = 21, cluster_std = 4)\n",
    "#Fit the model\n",
    "clfH.fit(clusters_2, labels_2)\n",
    "#Predict a label using the hypertan model  \n",
    "labels_2 = np.where(labels_2 == 0, -1, 1)\n",
    "y_pred = clfH.predict(clusters_2)\n",
    "target_names = ['red', 'blue']\n",
    "#Print classification report\n",
    "print(classification_report(labels_2, y_pred, target_names=target_names))\n",
    "print('Accuracy score:', accuracy_score(labels_2, y_pred))\n",
    "print('HyperTan regression does not perform well on two overlapping blobs')"
   ]
  },
  {
   "cell_type": "markdown",
   "metadata": {},
   "source": [
    "# CIRCLE AND A BLOB"
   ]
  },
  {
   "cell_type": "markdown",
   "metadata": {},
   "source": [
    "# Generate and plot the cirlce and blob"
   ]
  },
  {
   "cell_type": "code",
   "execution_count": 16,
   "metadata": {},
   "outputs": [
    {
     "data": {
      "text/plain": [
       "Text(0.5, 1.0, 'The class A blob with Class B circle')"
      ]
     },
     "execution_count": 16,
     "metadata": {},
     "output_type": "execute_result"
    },
    {
     "data": {
      "image/png": "[encoded data removed]",
      "text/plain": [
       "<Figure size 432x288 with 1 Axes>"
      ]
     },
     "metadata": {},
     "output_type": "display_data"
    }
   ],
   "source": [
    "#Circle\n",
    "circles, circle_label = make_circles(n_samples=500, noise=1/8, random_state=None, factor=0.8)\n",
    "colors_3 = ['r' if x == 0 else 'b' for x in circle_label]\n",
    "#Isolate and plot outer circle only\n",
    "red = circle_label == 0\n",
    "green = circle_label == 1\n",
    "#Plot the outer circle\n",
    "plt.scatter(circles[red, 0], circles[red, 1], c=\"r\")\n",
    "\n",
    "# Then generate a blob in the center (class A) which will have mean μA = (0, 0) and standard deviation σA = 1/8. \n",
    "mu_a = [0,0]\n",
    "std = 1/8\n",
    "clusters_a = std * np.random.randn(250,2) + mu_a\n",
    "plt.scatter(x=clusters_a[:,0], y=clusters_a[:,1],c='b')\n",
    "plt.title('The class A blob with Class B circle')"
   ]
  },
  {
   "cell_type": "markdown",
   "metadata": {},
   "source": [
    "# Perceptron on circle and blob"
   ]
  },
  {
   "cell_type": "code",
   "execution_count": 17,
   "metadata": {},
   "outputs": [
    {
     "name": "stdout",
     "output_type": "stream",
     "text": [
      "             precision    recall  f1-score   support\n",
      "\n",
      "        red       1.00      0.00      0.01       250\n",
      "       blue       0.50      1.00      0.67       250\n",
      "\n",
      "avg / total       0.75      0.50      0.34       500\n",
      "\n",
      "Accuracy score, perceptron: 0.502\n",
      "Perceptron  does not perform well on circle and blob\n"
     ]
    }
   ],
   "source": [
    "outside = circles[circle_label == 0]\n",
    "inside = clusters_a\n",
    "\n",
    "features = np.concatenate((outside, inside), axis=0)\n",
    "red_circle = circle_label[circle_label == 0]\n",
    "blue_dot = np.ones(len(inside), dtype=int)\n",
    "labels = np.concatenate((red_circle, blue_dot), axis=0)\n",
    "#Change labels to -1 and 1 instead of 0 and 1\n",
    "labels = np.where(labels == 0, -1, 1)\n",
    "#Fit the two blobs:\n",
    "clfP.fit(features, labels)\n",
    "#Predict a label using the trained perceptron \n",
    "y_pred = clfP.predict(features)\n",
    "target_names = ['red', 'blue']\n",
    "#Then print classification report\n",
    "print(classification_report(labels, y_pred, target_names=target_names))\n",
    "print('Accuracy score, perceptron:', accuracy_score(labels, y_pred))\n",
    "print('Perceptron  does not perform well on circle and blob')"
   ]
  },
  {
   "cell_type": "markdown",
   "metadata": {},
   "source": [
    "# Logistic on circle and blob"
   ]
  },
  {
   "cell_type": "code",
   "execution_count": 18,
   "metadata": {},
   "outputs": [
    {
     "name": "stdout",
     "output_type": "stream",
     "text": [
      "             precision    recall  f1-score   support\n",
      "\n",
      "        red       0.00      0.00      0.00       250\n",
      "       blue       0.50      1.00      0.67       250\n",
      "\n",
      "avg / total       0.25      0.50      0.33       500\n",
      "\n",
      "Accuracy score, logistic: 0.5\n",
      "Logistic regression does not perform well on circle and blob\n"
     ]
    },
    {
     "name": "stderr",
     "output_type": "stream",
     "text": [
      "/Users/jja/Spring 2020/ML/DSEHW1.py:80: RuntimeWarning: divide by zero encountered in log\n",
      "  ((1 - y).dot(np.log(1 - output))))\n",
      "/anaconda3/lib/python3.6/site-packages/sklearn/metrics/classification.py:1135: UndefinedMetricWarning: Precision and F-score are ill-defined and being set to 0.0 in labels with no predicted samples.\n",
      "  'precision', 'predicted', average, warn_for)\n"
     ]
    }
   ],
   "source": [
    "#The outside circle\n",
    "outside = circles[circle_label == 0]\n",
    "#The inside blob\n",
    "inside = clusters_a\n",
    "\n",
    "#The features\n",
    "features = np.concatenate((outside, inside), axis=0)\n",
    "red_circle = circle_label[circle_label == 0]\n",
    "blue_dot = np.ones(len(inside), dtype=int)\n",
    "#labels\n",
    "labels = np.concatenate((red_circle, blue_dot), axis=0)\n",
    "#Fit the model:\n",
    "clfL.fit(features, labels)\n",
    "#Predict a label using the logistic model  \n",
    "y_pred = clfL.predict(features)\n",
    "target_names = ['red', 'blue']\n",
    "#Print classification report\n",
    "print(classification_report(labels, y_pred, target_names=target_names))\n",
    "print('Accuracy score, logistic:', accuracy_score(labels, y_pred))\n",
    "print('Logistic regression does not perform well on circle and blob')"
   ]
  },
  {
   "cell_type": "markdown",
   "metadata": {},
   "source": [
    "# HyperTan on circle and blob"
   ]
  },
  {
   "cell_type": "code",
   "execution_count": 19,
   "metadata": {},
   "outputs": [
    {
     "name": "stdout",
     "output_type": "stream",
     "text": [
      "             precision    recall  f1-score   support\n",
      "\n",
      "        red       0.00      0.00      0.00       250\n",
      "       blue       0.50      1.00      0.67       250\n",
      "\n",
      "avg / total       0.25      0.50      0.33       500\n",
      "\n",
      "Accuracy score, hypertan: 0.5\n",
      "HyperTan regression does not perform well on circle and blob\n"
     ]
    },
    {
     "name": "stderr",
     "output_type": "stream",
     "text": [
      "/Users/jja/Spring 2020/ML/DSEHW1.py:95: RuntimeWarning: divide by zero encountered in log\n",
      "  ((1 - y).dot(np.log(1 - output))))\n",
      "/anaconda3/lib/python3.6/site-packages/sklearn/metrics/classification.py:1135: UndefinedMetricWarning: Precision and F-score are ill-defined and being set to 0.0 in labels with no predicted samples.\n",
      "  'precision', 'predicted', average, warn_for)\n"
     ]
    }
   ],
   "source": [
    "outside = circles[circle_label == 0]\n",
    "inside = clusters_a\n",
    "\n",
    "features = np.concatenate((outside, inside), axis=0)\n",
    "red_circle = circle_label[circle_label == 0]\n",
    "blue_dot = np.ones(len(inside), dtype=int)\n",
    "labels = np.concatenate((red_circle, blue_dot), axis=0)\n",
    "#Change labels to -1 and 1 instead of 0 and 1\n",
    "#Fit cirlce and blob\n",
    "clfH.fit(features, labels)\n",
    "#Predict a label using the hypertan model  \n",
    "labels_2 = np.where(labels == 0, -1, 1)\n",
    "y_pred = clfH.predict(features)\n",
    "target_names = ['red', 'blue']\n",
    "#Then print classification report\n",
    "print(classification_report(labels_2, y_pred, target_names=target_names))\n",
    "print('Accuracy score, hypertan:', accuracy_score(labels_2, y_pred))\n",
    "print('HyperTan regression does not perform well on circle and blob')"
   ]
  },
  {
   "cell_type": "code",
   "execution_count": null,
   "metadata": {},
   "outputs": [],
   "source": []
  },
  {
   "cell_type": "code",
   "execution_count": null,
   "metadata": {},
   "outputs": [],
   "source": []
  },
  {
   "cell_type": "code",
   "execution_count": 20,
   "metadata": {},
   "outputs": [],
   "source": []
  }
 ],
 "metadata": {
  "kernelspec": {
   "display_name": "Python 3",
   "language": "python",
   "name": "python3"
  },
  "language_info": {
   "codemirror_mode": {
    "name": "ipython",
    "version": 3
   },
   "file_extension": ".py",
   "mimetype": "text/x-python",
   "name": "python",
   "nbconvert_exporter": "python",
   "pygments_lexer": "ipython3",
   "version": "3.6.8"
  }
 },
 "nbformat": 4,
 "nbformat_minor": 2
}
